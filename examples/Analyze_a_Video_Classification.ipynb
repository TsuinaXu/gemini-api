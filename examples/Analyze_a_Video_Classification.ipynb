{
  "cells": [
    {
      "cell_type": "markdown",
      "metadata": {
        "id": "UvTPRErEO2cl"
      },
      "source": [
        "##### Copyright 2025 Google LLC."
      ]
    },
    {
      "cell_type": "code",
      "execution_count": null,
      "metadata": {
        "cellView": "form",
        "id": "LCJL7_hQO3jW"
      },
      "outputs": [],
      "source": [
        "# @title Licensed under the Apache License, Version 2.0 (the \"License\");\n",
        "# you may not use this file except in compliance with the License.\n",
        "# You may obtain a copy of the License at\n",
        "#\n",
        "# https://www.apache.org/licenses/LICENSE-2.0\n",
        "#\n",
        "# Unless required by applicable law or agreed to in writing, software\n",
        "# distributed under the License is distributed on an \"AS IS\" BASIS,\n",
        "# WITHOUT WARRANTIES OR CONDITIONS OF ANY KIND, either express or implied.\n",
        "# See the License for the specific language governing permissions and\n",
        "# limitations under the License."
      ]
    },
    {
      "cell_type": "markdown",
      "metadata": {
        "id": "2Xjw-LFKoD1-"
      },
      "source": [
        "# Gemini API: Analyze a Video - Classification\n",
        "\n",
        "This notebook uses multimodal capabilities of the Gemini model to classify the species of animals shown in a video."
      ]
    },
    {
      "cell_type": "markdown",
      "metadata": {
        "id": "dJY5C59gPf-m"
      },
      "source": [
        "<a target=\"_blank\" href=\"https://colab.research.google.com/github/google-gemini/cookbook/blob/main/examples/Analyze_a_Video_Classification.ipynb\"><img src=\"https://colab.research.google.com/assets/colab-badge.svg\" height=30/></a>"
      ]
    },
    {
      "cell_type": "code",
      "execution_count": null,
      "metadata": {
        "id": "NwP4PBGWoQiJ"
      },
      "outputs": [],
      "source": [
        "%pip install -U -q \"google-genai>=1.0.0\""
      ]
    },
    {
      "cell_type": "markdown",
      "metadata": {
        "id": "KsMCUn_nRRtV"
      },
      "source": [
        "## Configure your API key\n",
        "\n",
        "To run the following cell, your API key must be stored in a Colab Secret named `GOOGLE_API_KEY`. If you don't already have an API key, or you're not sure how to create a Colab Secret, see [Authentication](https://github.com/google-gemini/cookbook/blob/main/quickstarts/Authentication.ipynb) for an example."
      ]
    },
    {
      "cell_type": "code",
      "execution_count": 17,
      "metadata": {
        "id": "yGjQlQ9hoSOk"
      },
      "outputs": [],
      "source": [
        "from google.colab import userdata\n",
        "from google import genai\n",
        "\n",
        "API_KEY = userdata.get('GOOGLE_API_KEY')\n",
        "client = genai.Client(api_key=API_KEY)"
      ]
    },
    {
      "cell_type": "markdown",
      "metadata": {
        "id": "9y6o91Xb7RZb"
      },
      "source": [
        "## Example\n",
        "\n",
        "This example uses a [video](https://commons.wikimedia.org/wiki/File:American_black_bears_%28Ursus_americanus%29.webm) published by Bryon Evans containing an American black bear.\n",
        "\n",
        "The video falls under the [Creative Commons Attribution 3.0 Unported license](https://creativecommons.org/licenses/by/3.0/deed.en)."
      ]
    },
    {
      "cell_type": "code",
      "execution_count": 18,
      "metadata": {
        "id": "M794IEOG7QzI",
        "outputId": "9554cb93-f349-4e88-bbe9-865b8e9602dd",
        "colab": {
          "base_uri": "https://localhost:8080/"
        }
      },
      "outputs": [
        {
          "output_type": "stream",
          "name": "stdout",
          "text": [
            "--2025-05-25 16:52:53--  https://pub-72ecee33f28043d2ac3b53650ad6a89a.r2.dev/keypoints_video.mp4\n",
            "Resolving pub-72ecee33f28043d2ac3b53650ad6a89a.r2.dev (pub-72ecee33f28043d2ac3b53650ad6a89a.r2.dev)... 172.66.0.235, 162.159.140.237, 2606:4700:7::eb, ...\n",
            "Connecting to pub-72ecee33f28043d2ac3b53650ad6a89a.r2.dev (pub-72ecee33f28043d2ac3b53650ad6a89a.r2.dev)|172.66.0.235|:443... connected.\n",
            "HTTP request sent, awaiting response... 200 OK\n",
            "Length: 956812 (934K) [video/mp4]\n",
            "Saving to: ‘black_bear.webm’\n",
            "\n",
            "\rblack_bear.webm       0%[                    ]       0  --.-KB/s               \rblack_bear.webm     100%[===================>] 934.39K  --.-KB/s    in 0.007s  \n",
            "\n",
            "2025-05-25 16:52:53 (134 MB/s) - ‘black_bear.webm’ saved [956812/956812]\n",
            "\n"
          ]
        }
      ],
      "source": [
        "# Download video\n",
        "path = \"black_bear.webm\"\n",
        "url = \"https://pub-72ecee33f28043d2ac3b53650ad6a89a.r2.dev/keypoints_video.mp4\"\n",
        "URL = \"https://pub-72ecee33f28043d2ac3b53650ad6a89a.r2.dev/300_AUDIO.wav\"\n",
        "!wget -q $URL -O sample.mp3\n",
        "your_audio_file = client.files.upload(file='sample.mp3')\n",
        "!wget $url -O $path"
      ]
    },
    {
      "cell_type": "markdown",
      "metadata": {
        "id": "Yc0Dn6plMRa1"
      },
      "source": [
        "Upload the file using the File API so its easier to pass it to the model later on."
      ]
    },
    {
      "cell_type": "code",
      "execution_count": 19,
      "metadata": {
        "id": "efnp0oAq7kYx"
      },
      "outputs": [],
      "source": [
        "# Upload video\n",
        "video_file = client.files.upload(file=path)"
      ]
    },
    {
      "cell_type": "code",
      "execution_count": 20,
      "metadata": {
        "id": "ij9-oG3g7yyj",
        "outputId": "e120ac44-0bdf-4104-fe2f-debbb8903efe",
        "colab": {
          "base_uri": "https://localhost:8080/"
        }
      },
      "outputs": [
        {
          "output_type": "stream",
          "name": "stdout",
          "text": [
            "."
          ]
        }
      ],
      "source": [
        "import time\n",
        "# Wait until the uploaded video is available\n",
        "while video_file.state.name == \"PROCESSING\":\n",
        "  print('.', end='')\n",
        "  time.sleep(5)\n",
        "  video_file = client.files.get(name=video_file.name)\n",
        "\n",
        "if video_file.state.name == \"FAILED\":\n",
        "  raise ValueError(video_file.state.name)"
      ]
    },
    {
      "cell_type": "markdown",
      "metadata": {
        "id": "xqqYxTqnvyfH"
      },
      "source": [
        "To demonstrate the video content, display the first frame:"
      ]
    },
    {
      "cell_type": "code",
      "execution_count": 21,
      "metadata": {
        "id": "vbnD4S2avE0k",
        "outputId": "453c93d1-57dc-4274-87d2-ee8bc9f1de1e",
        "colab": {
          "base_uri": "https://localhost:8080/",
          "height": 406
        }
      },
      "outputs": [
        {
          "output_type": "display_data",
          "data": {
            "text/plain": [
              "<Figure size 640x480 with 1 Axes>"
            ],
            "image/png": "[encoded data removed]"
          },
          "metadata": {}
        }
      ],
      "source": [
        "import cv2\n",
        "import matplotlib.pyplot as plt\n",
        "\n",
        "cap = cv2.VideoCapture(path)\n",
        "_, frame = cap.read()\n",
        "\n",
        "frame_rgb = cv2.cvtColor(frame, cv2.COLOR_BGR2RGB)\n",
        "\n",
        "# Display using matplotlib\n",
        "plt.imshow(frame_rgb)\n",
        "plt.axis('off')\n",
        "plt.show()\n",
        "\n",
        "# close video file\n",
        "cap.release()"
      ]
    },
    {
      "cell_type": "markdown",
      "metadata": {
        "id": "Wd-UBrzHqHvv"
      },
      "source": [
        "The uploaded video is ready to be analyzed. The constructed prompt instructs the model to classify animals in the video. In addition to providing both their English and Latin names."
      ]
    },
    {
      "cell_type": "code",
      "execution_count": 22,
      "metadata": {
        "id": "Zhnsiy9O8OXG"
      },
      "outputs": [],
      "source": [
        "system_prompt = \"\"\"\n",
        "You are a depression specialist whose job is detect depression in videos and audio.\n",
        "There are facial keypoints in the video, and the interview in audio.\n",
        "\"\"\""
      ]
    },
    {
      "cell_type": "code",
      "execution_count": 23,
      "metadata": {
        "id": "PWLK7TEi7_mP",
        "outputId": "6b0ffec1-818d-4a96-ba05-1c131b45f11a",
        "colab": {
          "base_uri": "https://localhost:8080/"
        }
      },
      "outputs": [
        {
          "output_type": "stream",
          "name": "stdout",
          "text": [
            "Based on the analysis of the facial keypoints in the video and the man's speech in the audio, here is a detection of depressive indicators:\n",
            "\n",
            "**Facial Expression (Video Analysis):**\n",
            "The facial keypoints throughout the entire video indicate **extremely limited facial expressiveness**. The configuration of the points remains consistently in a neutral or slightly downturned position, showing minimal dynamic changes even when discussing topics that might typically elicit positive or negative emotions (e.g., stating \"I love it,\" or describing feeling \"frustrated\"). This **flattened or restricted affect** is a significant indicator often associated with depression. There are no visible smiles or strong emotional displays.\n",
            "\n",
            "**Speech and Voice (Audio Analysis):**\n",
            "\n",
            "1.  **Prosody and Affect:** The man's voice is predominantly **monotone with low pitch variation and flat intonation**. There is a noticeable lack of emotional resonance in his speech, even when responding to questions about positive experiences or things he enjoys. This **lack of vocal expressiveness** strongly aligns with a flattened or restricted affect, a common symptom of depression.\n",
            "\n",
            "2.  **Speech Rate and Pauses:** His speech rate is generally **slowed**, and there are frequent, sometimes **prolonged pauses** before and between responses. This **psychomotor retardation** is another key indicator of depression.\n",
            "\n",
            "3.  **Content and Elaboration:**\n",
            "    *   **Anhedonia (Lack of Pleasure):** While he lists activities he enjoys (reading books, cooking, exercising, sports, spending time with friends and family), the delivery is devoid of any accompanying positive emotion or enthusiasm. This disconnect between stated enjoyment and emotional expression could suggest **anhedonia**, a core symptom of depression.\n",
            "    *   **Limited Elaboration:** Many of his answers are brief and lack detailed elaboration, even when prompted to \"tell me more.\" This could reflect a lack of energy, difficulty initiating or sustaining thought processes, or a general disinterest in engaging deeply.\n",
            "    *   **Negative Coping Mechanisms:** When asked what he does when annoyed, he states he \"shut[s] down\" and that he \"cut them off\" a friend who was annoying him. These responses suggest **social withdrawal** and difficulty in managing interpersonal conflicts, which are common in depression.\n",
            "    *   **Self-Perception:** When asked how his best friend would describe him, he lists physical attributes (\"chocolate, tall, thin\") rather than personality traits, which is an unusual and concrete response, potentially indicating difficulty with self-reflection or a reduced capacity to articulate personal qualities.\n",
            "    *   **Regret:** He expresses regret about not going to college directly after high school, mentioning \"I would've been done by now.\" While common, this is delivered with a flat tone, not intense sadness, but still points to rumination.\n",
            "\n",
            "**Self-Reported State:**\n",
            "The man directly denies feeling \"down\" or having been diagnosed with depression or PTSD. However, it is common for individuals experiencing depression to deny or minimize their internal emotional state, especially in a structured interview setting. The objective behavioral and vocal cues observed contradict these direct denials.\n",
            "\n",
            "**Conclusion:**\n",
            "The man exhibits several prominent non-verbal and vocal cues consistent with **depressed affect** and symptoms of depression. The most striking features are the **flattened facial expressions**, **monotone speech**, **slowed pace**, and **lack of emotional expressiveness** across various topics, including those expected to be positive. While a definitive clinical diagnosis of depression requires a comprehensive evaluation by a mental health professional, the analysis of this video and audio strongly suggests the presence of **significant indicators of depression**.\n"
          ]
        }
      ],
      "source": [
        "from google.genai import types\n",
        "\n",
        "MODEL_ID=\"gemini-2.5-flash-preview-05-20\" # @param [\"gemini-2.0-flash-lite\",\"gemini-2.0-flash\",\"gemini-2.5-flash-preview-05-20\",\"gemini-2.5-pro-preview-05-06\"] {\"allow-input\":true, isTemplate: true}\n",
        "response = client.models.generate_content(\n",
        "    model=f\"models/{MODEL_ID}\",\n",
        "    contents=[\n",
        "        \"Please detect whether the man is depressed by analyzing the audio and video.\",\n",
        "        video_file,\n",
        "        your_audio_file\n",
        "        ],\n",
        "    config=types.GenerateContentConfig(\n",
        "        system_instruction=system_prompt,\n",
        "        ),\n",
        "    )\n",
        "print(response.text)"
      ]
    },
    {
      "cell_type": "markdown",
      "metadata": {
        "id": "CYLXPx2lq45r"
      },
      "source": [
        "As you can see, the model accurately named the animal and provided a correct Latin name.\n",
        "\n",
        "You can delete the video to prevent unnecessary data storage."
      ]
    },
    {
      "cell_type": "code",
      "execution_count": null,
      "metadata": {
        "id": "SomiSVmu8Czk",
        "outputId": "f9526c7f-0ad6-4e16-f164-c327f7a18617"
      },
      "outputs": [
        {
          "data": {
            "text/plain": [
              "DeleteFileResponse()"
            ]
          },
          "execution_count": 44,
          "metadata": {},
          "output_type": "execute_result"
        }
      ],
      "source": [
        "# Delete video\n",
        "client.files.delete(name=video_file.name)"
      ]
    },
    {
      "cell_type": "markdown",
      "metadata": {
        "id": "aBM_LtQLLJA9"
      },
      "source": [
        "## Summary\n",
        "\n",
        "Now you know how you can prompt Gemini models with videos and use them to classify species of animals.\n",
        "\n",
        "This notebook shows only one of many use cases. Check the [Video understanding](../quickstarts/Video_understanding.ipynb) notebook for more examples of using the Gemini API with videos."
      ]
    }
  ],
  "metadata": {
    "colab": {
      "name": "Analyze_a_Video_Classification.ipynb",
      "toc_visible": true,
      "provenance": []
    },
    "kernelspec": {
      "display_name": "Python 3",
      "name": "python3"
    }
  },
  "nbformat": 4,
  "nbformat_minor": 0
}