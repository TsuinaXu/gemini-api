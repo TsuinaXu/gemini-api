{
  "cells": [
    {
      "cell_type": "markdown",
      "metadata": {
        "id": "UvTPRErEO2cl"
      },
      "source": [
        "##### Copyright 2025 Google LLC."
      ]
    },
    {
      "cell_type": "code",
      "execution_count": 553,
      "metadata": {
        "id": "NwP4PBGWoQiJ"
      },
      "outputs": [],
      "source": [
        "%pip install -U -q \"google-genai>=1.0.0\""
      ]
    },
    {
      "cell_type": "code",
      "execution_count": 554,
      "metadata": {
        "id": "yGjQlQ9hoSOk"
      },
      "outputs": [],
      "source": [
        "from google.colab import userdata\n",
        "from google import genai\n",
        "from google.genai import types\n",
        "import os\n",
        "import time # 导入 time 模块用于暂停\n",
        "import pandas as pd # 用于保存结果到CSV，如果不需要可以移除\n",
        "API_KEY = userdata.get('GOOGLE_API_KEY')\n",
        "client = genai.Client(api_key=API_KEY)\n",
        "# MODEL_ID=\"gemini-2.5-flash-preview-05-20\" # @param [\"gemini-2.0-flash-lite\",\"gemini-2.0-flash\",\"gemini-2.5-flash-preview-05-20\",\"gemini-2.5-pro-preview-05-06\"] {\"allow-input\":true, isTemplate: true}\n"
      ]
    },
    {
      "cell_type": "code",
      "source": [],
      "metadata": {
        "id": "Ch8gwnoZzk9A"
      },
      "execution_count": null,
      "outputs": []
    },
    {
      "cell_type": "code",
      "execution_count": 1142,
      "metadata": {
        "id": "M794IEOG7QzI",
        "colab": {
          "base_uri": "https://localhost:8080/"
        },
        "outputId": "a48ba5d1-06d8-44b8-94e0-562112fbc9aa"
      },
      "outputs": [
        {
          "output_type": "stream",
          "name": "stdout",
          "text": [
            "--2025-06-03 10:30:36--  https://pub-ddb0822c7bea4d47a2a7fb9e1453172c.r2.dev/0.wav\n",
            "Resolving pub-ddb0822c7bea4d47a2a7fb9e1453172c.r2.dev (pub-ddb0822c7bea4d47a2a7fb9e1453172c.r2.dev)... 162.159.140.237, 172.66.0.235, 2606:4700:7::eb, ...\n",
            "Connecting to pub-ddb0822c7bea4d47a2a7fb9e1453172c.r2.dev (pub-ddb0822c7bea4d47a2a7fb9e1453172c.r2.dev)|162.159.140.237|:443... connected.\n",
            "HTTP request sent, awaiting response... 200 OK\n",
            "Length: 13970690 (13M) [audio/wav]\n",
            "Saving to: ‘audio.wav’\n",
            "\n",
            "audio.wav           100%[===================>]  13.32M  --.-KB/s    in 0.1s    \n",
            "\n",
            "2025-06-03 10:30:37 (107 MB/s) - ‘audio.wav’ saved [13970690/13970690]\n",
            "\n",
            "--2025-06-03 10:30:37--  https://pub-ddb0822c7bea4d47a2a7fb9e1453172c.r2.dev/0.txt\n",
            "Resolving pub-ddb0822c7bea4d47a2a7fb9e1453172c.r2.dev (pub-ddb0822c7bea4d47a2a7fb9e1453172c.r2.dev)... 162.159.140.237, 172.66.0.235, 2a06:98c1:58::eb, ...\n",
            "Connecting to pub-ddb0822c7bea4d47a2a7fb9e1453172c.r2.dev (pub-ddb0822c7bea4d47a2a7fb9e1453172c.r2.dev)|162.159.140.237|:443... connected.\n",
            "HTTP request sent, awaiting response... 200 OK\n",
            "Length: 4817 (4.7K) [text/plain]\n",
            "Saving to: ‘text.txt’\n",
            "\n",
            "text.txt            100%[===================>]   4.70K  --.-KB/s    in 0s      \n",
            "\n",
            "2025-06-03 10:30:37 (67.3 MB/s) - ‘text.txt’ saved [4817/4817]\n",
            "\n"
          ]
        }
      ],
      "source": [
        "# Download video\n",
        "# video_path = \"video.mp4\"\n",
        "audio_path = \"audio.wav\"\n",
        "text_path = \"text.txt\"\n",
        "# video_url = \"https://pub-ddb0822c7bea4d47a2a7fb9e1453172c.r2.dev/66.mp4\"\n",
        "audio_url = \"https://pub-ddb0822c7bea4d47a2a7fb9e1453172c.r2.dev/0.wav\"\n",
        "text_url = \"https://pub-ddb0822c7bea4d47a2a7fb9e1453172c.r2.dev/0.txt\"\n",
        "# !wget $video_url -O $video_path\n",
        "!wget $audio_url -O $audio_path\n",
        "!wget $text_url -O $text_path\n"
      ]
    },
    {
      "cell_type": "code",
      "source": [],
      "metadata": {
        "id": "pPMB1ftfz-ol"
      },
      "execution_count": null,
      "outputs": []
    },
    {
      "cell_type": "code",
      "execution_count": 1143,
      "metadata": {
        "id": "efnp0oAq7kYx"
      },
      "outputs": [],
      "source": [
        "# Upload video\n",
        "# video_file = client.files.upload(file=video_path)\n",
        "audio_file = client.files.upload(file=audio_path)\n",
        "text_file = client.files.upload(file=text_path)"
      ]
    },
    {
      "cell_type": "code",
      "execution_count": 1144,
      "metadata": {
        "id": "PWLK7TEi7_mP",
        "outputId": "cfb9a035-319f-414b-ad23-0f6bebd18658",
        "colab": {
          "base_uri": "https://localhost:8080/"
        }
      },
      "outputs": [
        {
          "output_type": "stream",
          "name": "stdout",
          "text": [
            "No\n"
          ]
        }
      ],
      "source": [
        "from google.genai import types\n",
        "system_prompt = \"\"\"\n",
        "You are a depression diagnosis tool.\n",
        "\"\"\"\n",
        "MODEL_ID=\"gemini-2.5-flash-preview-05-20\" # @param [\"gemini-2.0-flash-lite\",\"gemini-2.0-flash\",\"gemini-2.5-flash-preview-05-20\",\"gemini-2.5-pro-preview-05-06\"] {\"allow-input\":true, isTemplate: true}\n",
        "response = client.models.generate_content(\n",
        "    model=f\"models/{MODEL_ID}\",\n",
        "    contents=[\n",
        "        \"The following is a transcript of a person discussing their mood and feelings in a video log.\\\n",
        "         Based on the text content, audio, and video of the speaker, please tell me whether this person is depressed or not.\\\n",
        "        Only answer 'Yes' or 'No' without any explanations.\",\n",
        "        audio_file,\n",
        "        text_file\n",
        "        ],\n",
        "    config=types.GenerateContentConfig(\n",
        "        system_instruction=system_prompt,\n",
        "        ),\n",
        "    )\n",
        "print(response.text)\n",
        "\n",
        "\n"
      ]
    },
    {
      "cell_type": "markdown",
      "metadata": {
        "id": "CYLXPx2lq45r"
      },
      "source": [
        "As you can see, the model accurately named the animal and provided a correct Latin name.\n",
        "\n",
        "You can delete the video to prevent unnecessary data storage."
      ]
    },
    {
      "cell_type": "code",
      "execution_count": null,
      "metadata": {
        "id": "SomiSVmu8Czk",
        "outputId": "b7dfaba8-6a38-48bb-acb0-cb23ed27580c"
      },
      "outputs": [
        {
          "data": {
            "text/plain": [
              "DeleteFileResponse()"
            ]
          },
          "execution_count": 44,
          "metadata": {},
          "output_type": "execute_result"
        }
      ],
      "source": [
        "# Delete video\n",
        "# client.files.delete(name=video_file.name)"
      ]
    },
    {
      "cell_type": "markdown",
      "metadata": {
        "id": "aBM_LtQLLJA9"
      },
      "source": [
        "## Summary\n",
        "\n",
        "Now you know how you can prompt Gemini models with videos and use them to classify species of animals.\n",
        "\n",
        "This notebook shows only one of many use cases. Check the [Video understanding](../quickstarts/Video_understanding.ipynb) notebook for more examples of using the Gemini API with videos."
      ]
    }
  ],
  "metadata": {
    "colab": {
      "name": "Analyze_a_Video_Classification.ipynb",
      "provenance": []
    },
    "kernelspec": {
      "display_name": "Python 3",
      "name": "python3"
    }
  },
  "nbformat": 4,
  "nbformat_minor": 0
}